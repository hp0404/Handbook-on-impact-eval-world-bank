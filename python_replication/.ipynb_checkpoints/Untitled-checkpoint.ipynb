{
 "cells": [
  {
   "cell_type": "code",
   "execution_count": null,
   "metadata": {},
   "outputs": [],
   "source": [
    "import pandas as pd\n",
    "from scipy import stats"
   ]
  },
  {
   "cell_type": "code",
   "execution_count": null,
   "metadata": {},
   "outputs": [],
   "source": [
    "data = pd.read_csv(\"./../data/hh_98.csv\").rename(columns={\"Unnamed: 0\": \"X\"})"
   ]
  },
  {
   "cell_type": "markdown",
   "metadata": {},
   "source": [
    "# Subset"
   ]
  },
  {
   "cell_type": "code",
   "execution_count": null,
   "metadata": {},
   "outputs": [],
   "source": [
    "df = data.assign(\n",
    "    lexptot=np.log(1 + data[\"exptot\"]), \n",
    "    lnland=np.log(1 + data[\"hhland\"] / 100), \n",
    "    vill=data[\"thanaid\"] * 10 + data[\"villid\"]\n",
    ")\n",
    "\n",
    "df[\"progvillm\"] = df.groupby(\"vill\")[\"dmmfd\"].transform(\"max\")\n",
    "df[\"progvillf\"] = df.groupby(\"vill\")[\"dfmfd\"].transform(\"max\")"
   ]
  },
  {
   "cell_type": "markdown",
   "metadata": {},
   "source": [
    "# Impacts of program placement"
   ]
  },
  {
   "cell_type": "markdown",
   "metadata": {},
   "source": [
    "## t-test"
   ]
  },
  {
   "cell_type": "code",
   "execution_count": null,
   "metadata": {},
   "outputs": [],
   "source": [
    "def run_ttest(table, values, by, two_sample=True):\n",
    "    t, pvalue = stats.ttest_ind(\n",
    "        table.loc[table[by].eq(1), values],\n",
    "        table.loc[table[by].eq(0), values],\n",
    "        equal_var=two_sample\n",
    "    )\n",
    "    test_type = \"Two Sample t-test\" if two_sample else \"Welch Two Sample t-test\"\n",
    "    print(f\"{test_type}; data: {values} by {by}; {t=}, {pvalue=}\")"
   ]
  },
  {
   "cell_type": "code",
   "execution_count": null,
   "metadata": {},
   "outputs": [],
   "source": [
    "run_ttest(df, \"lexptot\", \"progvillf\")"
   ]
  },
  {
   "cell_type": "code",
   "execution_count": null,
   "metadata": {},
   "outputs": [],
   "source": [
    "run_ttest(df, \"lexptot\", \"progvillm\")"
   ]
  },
  {
   "cell_type": "markdown",
   "metadata": {},
   "source": [
    "## Regression Implementation"
   ]
  },
  {
   "cell_type": "code",
   "execution_count": null,
   "metadata": {},
   "outputs": [],
   "source": [
    "def run_linregress(table, values, by):\n",
    "    slope, intercept, r_value, p_value, std_err = stats.linregress(\n",
    "        table.loc[table[by].eq(1), values],\n",
    "        table.loc[table[by].eq(0), values],\n",
    "    )\n",
    "    print(f\"{slope=}, {intercept=}, {r_value=}, {p_value=}, {std_err=}\")"
   ]
  },
  {
   "cell_type": "code",
   "execution_count": null,
   "metadata": {},
   "outputs": [],
   "source": [
    "slope, intercept, r_value, p_value, std_err = stats.linregress(x, y)"
   ]
  }
 ],
 "metadata": {
  "kernelspec": {
   "display_name": "Python 3",
   "language": "python",
   "name": "python3"
  },
  "language_info": {
   "codemirror_mode": {
    "name": "ipython",
    "version": 3
   },
   "file_extension": ".py",
   "mimetype": "text/x-python",
   "name": "python",
   "nbconvert_exporter": "python",
   "pygments_lexer": "ipython3",
   "version": "3.8.5"
  }
 },
 "nbformat": 4,
 "nbformat_minor": 4
}
